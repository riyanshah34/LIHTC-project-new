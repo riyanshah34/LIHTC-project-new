{
 "cells": [
  {
   "cell_type": "code",
   "execution_count": 1,
   "id": "72eae61a",
   "metadata": {},
   "outputs": [],
   "source": [
    "import json\n",
    "from pathlib import Path\n",
    "\n",
    "# Data \n",
    "import numpy as np\n",
    "import pandas as pd\n",
    "import geopandas as gpd\n",
    "from shapely.geometry import Point\n",
    "from scipy.stats import gaussian_kde\n",
    "import pyproj\n",
    "\n",
    "# Visualization and mapping\n",
    "import matplotlib.pyplot as plt\n",
    "from matplotlib import cm\n",
    "import folium\n",
    "from folium import Map, LayerControl, Marker\n",
    "from folium.plugins import HeatMap, MarkerCluster\n",
    "from branca.colormap import linear\n",
    "import folium\n",
    "from folium import FeatureGroup, LayerControl, GeoJson, GeoJsonTooltip\n",
    "import geopandas as gpd\n",
    "import folium\n",
    "from folium import CircleMarker\n",
    "import branca.colormap as cm\n",
    "\n",
    "# Geospatial utilities\n",
    "from geopandas.tools import sjoin_nearest"
   ]
  },
  {
   "cell_type": "markdown",
   "id": "37ca1760",
   "metadata": {},
   "source": [
    "# Importing Data"
   ]
  },
  {
   "cell_type": "markdown",
   "id": "f3dac722",
   "metadata": {},
   "source": [
    "### File Paths"
   ]
  },
  {
   "cell_type": "code",
   "execution_count": 2,
   "id": "5482dc26",
   "metadata": {},
   "outputs": [],
   "source": [
    "# Total Score\n",
    "total_score_path = Path(\"../../data/maps/total_location_score/total_score_metro_atl.geojson\")\n",
    "\n",
    "# Community Transportation Options\n",
    "transportation_score_path = Path(\"../../data/maps/community_transportation_options/transportation_options_score_metro_atl.geojson\")\n",
    "\n",
    "# Desirable/Undesirable Activities\n",
    "desirable_undesirable_score_path = Path(\"../../data/maps/desirable_undesirable_activities/desirable_undesirable_score_metro_atl.geojson\")\n",
    "desirable_places_path = Path(\"../../data/maps/desirable_undesirable_activities/desirable_places_metro_atl.geojson\")\n",
    "undesirable_places_path = Path(\"../../data/maps/desirable_undesirable_activities/undesirable_places_metro_atl.geojson\")\n",
    "food_deserts_path = Path(\"../../data/maps/desirable_undesirable_activities/food_deserts_metro_atl.geojson\")\n",
    "\n",
    "# Housing Need Characteristics\n",
    "housing_need_score_path = Path(\"../../data/maps/housing_need_characteristics/housing_need_score_metro_atl.geojson\")\n",
    "housing_need_indicators_path = Path(\"../../data/maps/housing_need_characteristics/housing_need_indicators_metro_atl.geojson\")\n",
    "\n",
    "# Quality Education\n",
    "education_score_path = Path(\"../../data/maps/quality_education_areas/education_score_metro_atl.geojson\")\n",
    "\n",
    "# Stable Communities\n",
    "stable_communities_score_path = Path(\"../../data/maps/stable_communities/stable_communities_score_metro_atl.geojson\")\n",
    "environmental_index_path = Path(\"../../data/maps/stable_communities/environmental_health_index_metro_atl.geojson\")\n",
    "jobs_index_path = Path(\"../../data/maps/stable_communities/jobs_proximity_index_metro_atl.geojson\")\n",
    "poverty_index_path = Path(\"../../data/maps/stable_communities/above_poverty_level_metro_atl.geojson\")\n",
    "income_index_path = Path(\"../../data/maps/stable_communities/median_income_metro_atl.geojson\")\n",
    "transit_index_path = Path(\"../../data/maps/stable_communities/transit_access_index_metro_atl.geojson\")\n",
    "\n",
    "# Applicants\n",
    "applicants_path = Path(\"../../data/maps/application_list_2022_2023_2024_metro_atl.geojson\")"
   ]
  },
  {
   "cell_type": "markdown",
   "id": "2aca9d17",
   "metadata": {},
   "source": [
    "### Load Data"
   ]
  },
  {
   "cell_type": "code",
   "execution_count": 3,
   "id": "0a8d6c12",
   "metadata": {},
   "outputs": [],
   "source": [
    "gdf_total_score = gpd.read_file(total_score_path)\n",
    "\n",
    "gdf_transportation_score = gpd.read_file(transportation_score_path)\n",
    "\n",
    "gdf_desirable_undesirable_score = gpd.read_file(desirable_undesirable_score_path)\n",
    "gdf_desirable_places = gpd.read_file(desirable_places_path)\n",
    "gdf_undesirable_places = gpd.read_file(undesirable_places_path)\n",
    "gdf_food_deserts = gpd.read_file(food_deserts_path).to_crs(\"EPSG:4326\")\n",
    "\n",
    "gdf_housing_need_score = gpd.read_file(housing_need_score_path).to_crs(\"EPSG:4326\")\n",
    "gdf_housing_need_indicators = gpd.read_file(housing_need_indicators_path).to_crs(\"EPSG:4326\")\n",
    "\n",
    "gdf_education_score = gpd.read_file(education_score_path)\n",
    "\n",
    "gdf_stable_communities_score = gpd.read_file(stable_communities_score_path).to_crs(\"EPSG:4326\")\n",
    "gdf_environmental_index = gpd.read_file(environmental_index_path).to_crs(\"EPSG:4326\")\n",
    "gdf_jobs_index = gpd.read_file(jobs_index_path).to_crs(\"EPSG:4326\")\n",
    "gdf_poverty_index = gpd.read_file(poverty_index_path).to_crs(\"EPSG:4326\")\n",
    "gdf_income_index = gpd.read_file(income_index_path).to_crs(\"EPSG:4326\")\n",
    "gdf_transit_index = gpd.read_file(transit_index_path).to_crs(\"EPSG:4326\")\n",
    "\n",
    "gdf_applicants = gpd.read_file(applicants_path).to_crs(\"EPSG:4326\")"
   ]
  },
  {
   "cell_type": "markdown",
   "id": "e2675037",
   "metadata": {},
   "source": [
    "# Layer Functions"
   ]
  },
  {
   "cell_type": "markdown",
   "id": "2aa91159",
   "metadata": {},
   "source": [
    "## Circle Layer - Lat/Lon Level"
   ]
  },
  {
   "cell_type": "code",
   "execution_count": 4,
   "id": "c0f81cc3",
   "metadata": {},
   "outputs": [],
   "source": [
    "def add_lat_lon_score_layer(gdf, layer_name, score_column=\"score\", palette=None, radius=3):\n",
    "    \"\"\"\n",
    "    Adds a CircleMarker layer to a Folium map using actual scores for colour mapping.\n",
    "\n",
    "    Args:\n",
    "        gdf (GeoDataFrame): Must contain geometry and a numeric score column.\n",
    "        layer_name (str): Name for the layer.\n",
    "        score_column (str): Name of the column containing numeric scores.\n",
    "        palette (list): List of hex colours (e.g., YlGnBu_20).\n",
    "        radius (int): Circle radius in pixels.\n",
    "\n",
    "    Returns:\n",
    "        A tuple: (FeatureGroup layer, colourmap)\n",
    "    \"\"\"\n",
    "    # Filter out rows with missing geometry or score\n",
    "    valid_gdf = gdf[~gdf.geometry.is_empty & gdf.geometry.notnull()].copy()\n",
    "    valid_gdf = valid_gdf[valid_gdf[score_column].notnull()]\n",
    "    \n",
    "    if valid_gdf.empty:\n",
    "        return folium.FeatureGroup(name=layer_name), None\n",
    "\n",
    "    # Create colourmap using the score range and your custom palette\n",
    "    colourmap = cm.LinearColormap(\n",
    "        colors=palette,\n",
    "        vmin=valid_gdf[score_column].min(),\n",
    "        vmax=valid_gdf[score_column].max(),\n",
    "        caption=layer_name\n",
    "    )\n",
    "\n",
    "    # Create a FeatureGroup to hold the markers\n",
    "    layer = folium.FeatureGroup(name=layer_name)\n",
    "\n",
    "    # Add each point as a circle marker\n",
    "    for _, row in valid_gdf.iterrows():\n",
    "        lat = row.geometry.y\n",
    "        lon = row.geometry.x\n",
    "        score = row[score_column]\n",
    "        colour = colourmap(score)\n",
    "\n",
    "        CircleMarker(\n",
    "            location=[lat, lon],\n",
    "            radius=radius,\n",
    "            color=colour,\n",
    "            weight = 0.1,\n",
    "            fill=True,\n",
    "            fill_color=colour,\n",
    "            fill_opacity=0.4,\n",
    "            popup=f\"{score_column.title()}: {score:.2f}\"\n",
    "        ).add_to(layer)\n",
    "\n",
    "    return layer, colourmap\n",
    "\n"
   ]
  },
  {
   "cell_type": "markdown",
   "id": "d2de03b8",
   "metadata": {},
   "source": [
    "## Heatmap Layer - Census Tract Level"
   ]
  },
  {
   "cell_type": "code",
   "execution_count": 5,
   "id": "e7e4c6f2",
   "metadata": {},
   "outputs": [],
   "source": [
    "def add_tract_score_layer_stable(folium_map, gdf, score_column, layer_name, color_scheme=\"YlGnBu_09\"):\n",
    "    \"\"\"\n",
    "    Adds a choropleth-style layer to a Folium map using polygon scores.\n",
    "\n",
    "    Args:\n",
    "        folium_map: folium.Map object\n",
    "        gdf: GeoDataFrame with polygon geometry and a score column\n",
    "        score_column: name of the column to color by\n",
    "        layer_name: name of the layer shown in the layer control\n",
    "        color_scheme: color palette name from branca.linear (default: YlGnBu_09)\n",
    "    \"\"\"\n",
    "    # Ensure CRS is EPSG:4326 for folium\n",
    "    gdf = gdf.to_crs(\"EPSG:4326\")\n",
    "    gdf[score_column] = pd.to_numeric(gdf[score_column], errors=\"coerce\")\n",
    "    print(gdf[score_column].head())\n",
    "    # Get color scale\n",
    "    vals = gdf[score_column].dropna()\n",
    "    if vals.empty:\n",
    "        print(f\"No valid numeric values for '{score_column}' — skipping layer: {layer_name}\")\n",
    "        return\n",
    "\n",
    "    # Proceed only if there are numeric values left\n",
    "    if len(vals) == 0:\n",
    "        print(f\"No valid numeric values for '{score_column}' — skipping layer: {layer_name}\")\n",
    "        return\n",
    "    print(\"Unique geometry types →\", gdf.geom_type.unique())\n",
    "\n",
    "    cmap = getattr(linear, color_scheme).scale(vals.min(), vals.max())\n",
    "    cmap.caption = layer_name\n",
    "\n",
    "    # Add GeoJSON layer\n",
    "    folium.GeoJson(\n",
    "        gdf,\n",
    "        name=layer_name,\n",
    "        style_function=lambda feature: {\n",
    "            \"fillColor\": cmap(feature[\"properties\"][score_column]) if feature[\"properties\"][score_column] is not None else \"#d3d3d3\",\n",
    "            \"color\": \"gray\",\n",
    "            \"weight\": 1,\n",
    "            \"fillOpacity\": 0.8\n",
    "        },\n",
    "        tooltip=folium.features.GeoJsonTooltip(\n",
    "            fields=[\"GEOID\", score_column],\n",
    "            aliases=[\"Tract\", layer_name],\n",
    "            localize=True\n",
    "        ),\n",
    "        options={\"name\": layer_name}\n",
    "    ).add_to(folium_map)\n",
    "\n",
    "    # Add legend\n",
    "    cmap.add_to(folium_map)"
   ]
  },
  {
   "cell_type": "code",
   "execution_count": 6,
   "id": "c0a2c48a",
   "metadata": {},
   "outputs": [],
   "source": [
    "def add_tract_score_layer(folium_map, gdf, score_column, layer_name, color_scheme=\"YlGnBu_09\"):\n",
    "    \"\"\"\n",
    "    Adds a choropleth-style layer to a Folium map using polygon scores.\n",
    "\n",
    "    Args:\n",
    "        folium_map: folium.Map object\n",
    "        gdf: GeoDataFrame with polygon geometry and a score column\n",
    "        score_column: name of the column to color by\n",
    "        layer_name: name of the layer shown in the layer control\n",
    "        color_scheme: color palette name from branca.linear (default: YlGnBu_09)\n",
    "    \"\"\"\n",
    "    # Ensure CRS is EPSG:4326 for folium\n",
    "    gdf = gdf.to_crs(\"EPSG:4326\")\n",
    "    gdf[score_column] = pd.to_numeric(gdf[score_column], errors=\"coerce\")\n",
    "    print(gdf[score_column].head())\n",
    "    # Get color scale\n",
    "    vals = gdf[score_column].dropna()\n",
    "    if vals.empty:\n",
    "        print(f\"No valid numeric values for '{score_column}' — skipping layer: {layer_name}\")\n",
    "        return\n",
    "\n",
    "    # Proceed only if there are numeric values left\n",
    "    if len(vals) == 0:\n",
    "        print(f\"No valid numeric values for '{score_column}' — skipping layer: {layer_name}\")\n",
    "        return\n",
    "    print(\"Unique geometry types →\", gdf.geom_type.unique())\n",
    "\n",
    "    cmap = getattr(linear, color_scheme).scale(vals.min(), vals.max())\n",
    "    cmap.caption = layer_name\n",
    "\n",
    "    # Add GeoJSON layer\n",
    "    folium.GeoJson(\n",
    "        gdf,\n",
    "        name=layer_name,\n",
    "        style_function=lambda feature: {\n",
    "            \"fillColor\": cmap(feature[\"properties\"][score_column]) if feature[\"properties\"][score_column] is not None else \"#d3d3d3\",\n",
    "            \"color\": \"gray\",\n",
    "            \"weight\": 0.3,\n",
    "            \"fillOpacity\": 0.8\n",
    "        },\n",
    "        tooltip=folium.features.GeoJsonTooltip(\n",
    "            fields=[\"GEOID\", score_column],\n",
    "            aliases=[\"Tract\", layer_name],\n",
    "            localize=True\n",
    "        ), \n",
    "    ).add_to(folium_map)\n",
    "\n",
    "    # Add legend\n",
    "    cmap.add_to(folium_map)"
   ]
  },
  {
   "cell_type": "markdown",
   "id": "87329e8f",
   "metadata": {},
   "source": [
    "## Marker Layer"
   ]
  },
  {
   "cell_type": "code",
   "execution_count": null,
   "id": "bbef21d8",
   "metadata": {},
   "outputs": [],
   "source": [
    "def add_coloured_markers_to_map(\n",
    "    folium_map,\n",
    "    gdf,\n",
    "    lat_col=\"lat\",\n",
    "    lon_col=\"lon\",\n",
    "    colour_by=None,\n",
    "    popup_fields=None,\n",
    "    layer_name=\"Markers\",\n",
    "    clustered=False,\n",
    "    categorical_colours=None,\n",
    "):\n",
    "    \"\"\"\n",
    "    Add color-coded markers to a folium map for categorical values.\n",
    "\n",
    "    Args:\n",
    "        folium_map: folium.Map object\n",
    "        gdf: GeoDataFrame or DataFrame\n",
    "        lat_col: column for latitude\n",
    "        lon_col: column for longitude\n",
    "        colour_by: column with categorical values to color by\n",
    "        popup_fields: list of columns to include in popup\n",
    "        layer_name: name of the feature group\n",
    "        clustered: whether to use MarkerCluster\n",
    "        categorical_colours: dict mapping category to color (optional)\n",
    "    \"\"\"\n",
    "    feature_group = folium.FeatureGroup(name=layer_name)\n",
    "    if clustered:\n",
    "        marker_layer = MarkerCluster()\n",
    "    else:\n",
    "        marker_layer = folium.FeatureGroup(name=f\"{layer_name} Markers\")\n",
    "\n",
    "    if colour_by and categorical_colours is None:\n",
    "        # Auto-assign colors if not provided\n",
    "        unique_vals = gdf[colour_by].dropna().unique()\n",
    "        color_palette = [\"green\", \"red\", \"blue\", \"orange\", \"purple\", \"gray\"]\n",
    "        categorical_colours = {\n",
    "            val: color_palette[i % len(color_palette)]\n",
    "            for i, val in enumerate(sorted(unique_vals))\n",
    "        }\n",
    "\n",
    "    for _, row in gdf.iterrows():\n",
    "        lat = row[lat_col]\n",
    "        lon = row[lon_col]\n",
    "\n",
    "        if pd.isnull(lat) or pd.isnull(lon):\n",
    "            continue  \n",
    "\n",
    "        colour = \"red\"\n",
    "        if colour_by:\n",
    "            value = row.get(colour_by)\n",
    "            colour = categorical_colours.get(value, \"red\")\n",
    "\n",
    "        # Extract tooltip content\n",
    "        year = row.get(\"year\", \"\")\n",
    "        dev_name = row.get(\"development_name\", \"\")\n",
    "        owner_name = row.get(\"ownership_entity_name\", \"\")\n",
    "        status = row.get(\"status\", \"Unknown\")\n",
    "        dca_score = row.get(\"dca_score\", \"\")\n",
    "\n",
    "        tooltip_text = (\n",
    "            f\"<b>{dev_name}</b><br>\"\n",
    "            f\"Owner: {owner_name}<br>\"\n",
    "            f\"Year: {year}<br>\"\n",
    "            f\"Status: {status}<br>\"\n",
    "            f\"DCA Score: {dca_score}\"\n",
    "        )\n",
    "\n",
    "        folium.CircleMarker(\n",
    "            location=(lat, lon),\n",
    "            radius=2,\n",
    "            color=colour,\n",
    "            fill=True,\n",
    "            fill_color=colour,\n",
    "            fill_opacity=1,\n",
    "            weight=0,\n",
    "            tooltip=folium.Tooltip(tooltip_text, sticky=True)  \n",
    "        ).add_to(marker_layer)\n",
    "\n",
    "    marker_layer.add_to(feature_group)\n",
    "    feature_group.add_to(folium_map)\n"
   ]
  },
  {
   "cell_type": "markdown",
   "id": "82cf3805",
   "metadata": {},
   "source": [
    "# Build Maps"
   ]
  },
  {
   "cell_type": "markdown",
   "id": "4dcf685b",
   "metadata": {},
   "source": [
    "## Location-Based Score Maps"
   ]
  },
  {
   "cell_type": "code",
   "execution_count": 33,
   "id": "75bbd1b4",
   "metadata": {},
   "outputs": [],
   "source": [
    "center_lat = gdf_total_score[\"lat\"].mean()\n",
    "center_lon = gdf_total_score[\"lon\"].mean()\n",
    "\n",
    "m_location_score = folium.Map(\n",
    "        location=[center_lat, center_lon],\n",
    "        zoom_start=9,\n",
    "        tiles=\"CartoDB positron\",   \n",
    "        attr=\"CartoDB positron\"    \n",
    ")\n",
    "\n",
    "YlGnBu_20 = ['#ffffd9', '#f7fcbf', '#eaf8b8', '#d5efb1', '#b7e3ac',\n",
    " '#94d6a8', '#6ec7a7', '#4db7a6', '#30a4a6', '#1991a6',\n",
    " '#107fa8', '#126ea8', '#165da8', '#194ea7', '#1c3fa5',\n",
    " '#1e30a1', '#1d239a', '#1a1790', '#150e83', '#0d0575']\n",
    "\n",
    "YlGnBu_5 = ['#ffffd9', '#d9efb2', '#94d6a8', '#2ba5b4', '#0d0575']\n",
    "\n",
    "status_colours = {\n",
    "    \"Select\": \"#7CFC00\",\n",
    "    \"Non-select\": \"red\"\n",
    "}"
   ]
  },
  {
   "cell_type": "code",
   "execution_count": 34,
   "id": "ab76612c",
   "metadata": {},
   "outputs": [],
   "source": [
    "circle_total, colourbar_total = add_lat_lon_score_layer(\n",
    "    gdf_total_score,\n",
    "    layer_name=\"Total Score\",\n",
    "    score_column=\"score\",\n",
    "    palette=YlGnBu_20,\n",
    "    radius=4\n",
    ")\n",
    "\n",
    "circle_total.add_to(m_location_score)\n",
    "if colourbar_total:\n",
    "    colourbar_total.add_to(m_location_score)"
   ]
  },
  {
   "cell_type": "code",
   "execution_count": 35,
   "id": "21e72d48",
   "metadata": {},
   "outputs": [],
   "source": [
    "circle_du, colourbar_du = add_lat_lon_score_layer(\n",
    "    gdf_desirable_undesirable_score,\n",
    "    layer_name=\"Desirable/Undesirable Activities Score\",\n",
    "    score_column=\"score\",\n",
    "    palette=YlGnBu_20,\n",
    "    radius=4\n",
    ")\n",
    "\n",
    "circle_du.add_to(m_location_score)\n",
    "if colourbar_du:\n",
    "    colourbar_du.add_to(m_location_score)"
   ]
  },
  {
   "cell_type": "code",
   "execution_count": 36,
   "id": "e79ad8c2",
   "metadata": {},
   "outputs": [],
   "source": [
    "circle_transport, colourbar_transport = add_lat_lon_score_layer(\n",
    "    gdf_transportation_score,\n",
    "    layer_name=\"Community Transportation Score\",\n",
    "    score_column=\"score\",\n",
    "    palette=YlGnBu_5,\n",
    "    radius=4\n",
    ")\n",
    "\n",
    "circle_transport.add_to(m_location_score)\n",
    "if colourbar_transport:\n",
    "    colourbar_transport.add_to(m_location_score)"
   ]
  },
  {
   "cell_type": "code",
   "execution_count": 37,
   "id": "14500643",
   "metadata": {},
   "outputs": [
    {
     "name": "stdout",
     "output_type": "stream",
     "text": [
      "0     6.0\n",
      "1    10.0\n",
      "2    10.0\n",
      "3     8.0\n",
      "4     8.0\n",
      "Name: score, dtype: float64\n",
      "Unique geometry types → ['Polygon' 'MultiPolygon']\n"
     ]
    }
   ],
   "source": [
    "add_tract_score_layer_stable(\n",
    "    m_location_score,\n",
    "    gdf_stable_communities_score,          \n",
    "    score_column=\"score\",\n",
    "    layer_name=\"Stable Communities Score\", \n",
    ")"
   ]
  },
  {
   "cell_type": "code",
   "execution_count": 38,
   "id": "d0f1c0c6",
   "metadata": {},
   "outputs": [
    {
     "name": "stdout",
     "output_type": "stream",
     "text": [
      "0    0.0\n",
      "1    0.0\n",
      "2    0.0\n",
      "3    0.0\n",
      "4    0.0\n",
      "Name: score, dtype: float64\n",
      "Unique geometry types → ['Polygon' 'MultiPolygon']\n"
     ]
    }
   ],
   "source": [
    "add_tract_score_layer(\n",
    "    m_location_score,\n",
    "    gdf_education_score,          \n",
    "    score_column=\"score\",\n",
    "    layer_name=\"Quality Education Score\", \n",
    ")"
   ]
  },
  {
   "cell_type": "code",
   "execution_count": 39,
   "id": "dfbe503f",
   "metadata": {},
   "outputs": [],
   "source": [
    "add_coloured_markers_to_map(\n",
    "    folium_map=m_location_score,\n",
    "    gdf=gdf_applicants,\n",
    "    lat_col=\"lat\",\n",
    "    lon_col=\"lon\",\n",
    "    colour_by=\"status\",  \n",
    "    popup_fields=None,\n",
    "    layer_name=\"Applicant Locations\",\n",
    "    categorical_colours=status_colours,\n",
    ")\n",
    "folium.LayerControl(collapsed=False, position=\"topright\").add_to(m_location_score)\n",
    "m_location_score.save(\"../../maps/location_score_map.html\")"
   ]
  },
  {
   "cell_type": "markdown",
   "id": "73cab20e",
   "metadata": {},
   "source": [
    "# Stable Communities and Indicators Maps"
   ]
  },
  {
   "cell_type": "code",
   "execution_count": null,
   "id": "621e827b",
   "metadata": {},
   "outputs": [],
   "source": [
    "center_lat = gdf_total_score[\"lat\"].mean()\n",
    "center_lon = gdf_total_score[\"lon\"].mean()\n",
    "\n",
    "m_stable_communities = folium.Map(\n",
    "        location=[center_lat, center_lon],\n",
    "        zoom_start=9,\n",
    "        tiles=\"CartoDB positron\",   \n",
    "        attr=\"CartoDB positron\"    \n",
    ")\n",
    "\n",
    "status_colours = {\n",
    "    \"Select\": \"#7CFC00\",\n",
    "    \"Non-select\": \"red\"\n",
    "}\n"
   ]
  },
  {
   "cell_type": "code",
   "execution_count": 16,
   "id": "d75b8d57",
   "metadata": {},
   "outputs": [
    {
     "name": "stdout",
     "output_type": "stream",
     "text": [
      "0     6.0\n",
      "1    10.0\n",
      "2    10.0\n",
      "3     8.0\n",
      "4     8.0\n",
      "Name: score, dtype: float64\n",
      "Unique geometry types → ['Polygon' 'MultiPolygon']\n"
     ]
    }
   ],
   "source": [
    "add_tract_score_layer_stable(\n",
    "    m_stable_communities,\n",
    "    gdf_stable_communities_score,          \n",
    "    score_column=\"score\",\n",
    "    layer_name=\"Stable Communities Score\", \n",
    ")"
   ]
  },
  {
   "cell_type": "code",
   "execution_count": 17,
   "id": "0e2fb6fa",
   "metadata": {},
   "outputs": [
    {
     "name": "stdout",
     "output_type": "stream",
     "text": [
      "0    0.419293\n",
      "1    0.264565\n",
      "2    0.199618\n",
      "3    0.162369\n",
      "4    0.498567\n",
      "Name: Environmental Health Index, dtype: float64\n",
      "Unique geometry types → ['Polygon' 'MultiPolygon']\n"
     ]
    }
   ],
   "source": [
    "add_tract_score_layer(\n",
    "    m_stable_communities,\n",
    "    gdf_environmental_index,          \n",
    "    score_column=\"Environmental Health Index\",\n",
    "    layer_name=\"Environmental Health Index\", \n",
    ")"
   ]
  },
  {
   "cell_type": "code",
   "execution_count": 18,
   "id": "010a4e4c",
   "metadata": {},
   "outputs": [
    {
     "name": "stdout",
     "output_type": "stream",
     "text": [
      "0    93.7\n",
      "1    94.3\n",
      "2    97.1\n",
      "3    97.2\n",
      "4    81.6\n",
      "Name: Percent of Population Above the Poverty Level, dtype: float64\n",
      "Unique geometry types → ['Polygon' 'MultiPolygon']\n"
     ]
    }
   ],
   "source": [
    "add_tract_score_layer_stable(\n",
    "    m_stable_communities,\n",
    "    gdf_poverty_index,          \n",
    "    score_column=\"Percent of Population Above the Poverty Level\",\n",
    "    layer_name=\"% of Population Above the Poverty Level\", \n",
    ")"
   ]
  },
  {
   "cell_type": "code",
   "execution_count": 19,
   "id": "97aaa5df",
   "metadata": {},
   "outputs": [
    {
     "name": "stdout",
     "output_type": "stream",
     "text": [
      "0    0.539365\n",
      "1    0.674729\n",
      "2    0.698227\n",
      "3    0.722188\n",
      "4    0.627898\n",
      "Name: Jobs Proximity Index, dtype: float64\n",
      "Unique geometry types → ['Polygon' 'MultiPolygon']\n"
     ]
    }
   ],
   "source": [
    "add_tract_score_layer(\n",
    "    m_stable_communities,\n",
    "    gdf_jobs_index,          \n",
    "    score_column=\"Jobs Proximity Index\",\n",
    "    layer_name=\"Jobs Proximity Index\", \n",
    ")"
   ]
  },
  {
   "cell_type": "code",
   "execution_count": 20,
   "id": "664fd5a7",
   "metadata": {},
   "outputs": [
    {
     "name": "stdout",
     "output_type": "stream",
     "text": [
      "0    0.469359\n",
      "1    0.644534\n",
      "2    0.686631\n",
      "3    0.535469\n",
      "4    0.618557\n",
      "Name: Transit Access Index, dtype: float64\n",
      "Unique geometry types → ['Polygon' 'MultiPolygon']\n"
     ]
    }
   ],
   "source": [
    "add_tract_score_layer(\n",
    "    m_stable_communities,\n",
    "    gdf_transit_index,          \n",
    "    score_column=\"Transit Access Index\",\n",
    "    layer_name=\"Transit Access Index\", \n",
    ")"
   ]
  },
  {
   "cell_type": "code",
   "execution_count": 21,
   "id": "e9dfe1c3",
   "metadata": {},
   "outputs": [
    {
     "name": "stdout",
     "output_type": "stream",
     "text": [
      "0     73406.0\n",
      "1    120694.0\n",
      "2    110066.0\n",
      "3    110799.0\n",
      "4     47383.0\n",
      "Name: Median Income, dtype: float64\n",
      "Unique geometry types → ['Polygon' 'MultiPolygon']\n"
     ]
    }
   ],
   "source": [
    "add_tract_score_layer(\n",
    "    m_stable_communities,\n",
    "    gdf_income_index,          \n",
    "    score_column=\"Median Income\",\n",
    "    layer_name=\"Median Income\"\n",
    ")"
   ]
  },
  {
   "cell_type": "code",
   "execution_count": 22,
   "id": "7c2a799c",
   "metadata": {},
   "outputs": [],
   "source": [
    "add_coloured_markers_to_map(\n",
    "    folium_map=m_stable_communities,\n",
    "    gdf=gdf_applicants,\n",
    "    lat_col=\"lat\",\n",
    "    lon_col=\"lon\",\n",
    "    colour_by=\"status\",  \n",
    "    popup_fields=None,\n",
    "    layer_name=\"Applicant Locations\",\n",
    "    categorical_colours=status_colours,\n",
    ")\n",
    "folium.LayerControl(collapsed=False, position=\"topright\").add_to(m_stable_communities)\n",
    "m_stable_communities.save(\"../../maps/stable_communities_map.html\")"
   ]
  },
  {
   "cell_type": "markdown",
   "id": "fd4ff9ea",
   "metadata": {},
   "source": [
    "#### Housing Needs Characteristics Indicator"
   ]
  },
  {
   "cell_type": "code",
   "execution_count": 23,
   "id": "69a95f88",
   "metadata": {},
   "outputs": [],
   "source": [
    "center_lat = gdf_total_score[\"lat\"].mean()\n",
    "center_lon = gdf_total_score[\"lon\"].mean()\n",
    "\n",
    "m_housing_needs = folium.Map(\n",
    "        location=[center_lat, center_lon],\n",
    "        zoom_start=9,\n",
    "        tiles=\"CartoDB positron\",   \n",
    "        attr=\"CartoDB positron\"    \n",
    ")\n",
    "\n",
    "\n",
    "status_colours = {\n",
    "    \"Select\": \"#7CFC00\",\n",
    "    \"Non-select\": \"red\"\n",
    "}"
   ]
  },
  {
   "cell_type": "code",
   "execution_count": 24,
   "id": "732a2dc2",
   "metadata": {},
   "outputs": [
    {
     "name": "stdout",
     "output_type": "stream",
     "text": [
      "0    46.875000\n",
      "1    54.285714\n",
      "2    56.410256\n",
      "3     0.000000\n",
      "4    42.471910\n",
      "Name: % of rental units occupied by 80% AMI and below with Severe Housing Problems, dtype: float64\n",
      "Unique geometry types → ['Polygon' 'MultiPolygon']\n"
     ]
    }
   ],
   "source": [
    "add_tract_score_layer(\n",
    "    m_housing_needs,\n",
    "    gdf_housing_need_indicators,          \n",
    "    score_column=\"% of rental units occupied by 80% AMI and below with Severe Housing Problems\",\n",
    "    layer_name=\"% of rental units occupied by 80% AMI and below with Severe Housing Problems\"\n",
    ")"
   ]
  },
  {
   "cell_type": "code",
   "execution_count": 25,
   "id": "4ebcdf22",
   "metadata": {},
   "outputs": [],
   "source": [
    "add_coloured_markers_to_map(\n",
    "    folium_map=m_housing_needs,\n",
    "    gdf=gdf_applicants,\n",
    "    lat_col=\"lat\",\n",
    "    lon_col=\"lon\",\n",
    "    colour_by=\"status\",  \n",
    "    popup_fields=None,\n",
    "    layer_name=\"Applicant Locations\",\n",
    "    categorical_colours=status_colours,\n",
    ")\n",
    "folium.LayerControl(collapsed=False, position=\"topright\").add_to(m_housing_needs)\n",
    "m_housing_needs.save(\"../../maps/housing_needs_map.html\")"
   ]
  },
  {
   "cell_type": "markdown",
   "id": "c297c56e",
   "metadata": {},
   "source": [
    "# Kernel Density Estimation\n",
    "### For lon/lat data"
   ]
  },
  {
   "cell_type": "code",
   "execution_count": 26,
   "id": "fc0df501",
   "metadata": {},
   "outputs": [],
   "source": [
    "# def compute_kde_heatmap_data(gdf, value_column, grid_size=500, bandwidth_scale=0.1):\n",
    "#     \"\"\"\n",
    "#     Projects gdf, applies KDE on the specified value_column,\n",
    "#     and returns [lat, lon, density] points for folium HeatMap.\n",
    "\n",
    "#     Args:\n",
    "#         gdf: GeoDataFrame with Point geometry in EPSG:4326\n",
    "#         value_column: string name of the score column to smooth\n",
    "#         grid_size: resolution of KDE grid (default: 500 x 500)\n",
    "#         bandwidth_scale: multiplier for KDE bandwidth (default: 0.1)\n",
    "\n",
    "#     Returns:\n",
    "#         List of [lat, lon, kde_value] points\n",
    "#     \"\"\"\n",
    "    \n",
    "#     # Project to meters\n",
    "#     gdf_proj = gdf.to_crs(\"EPSG:3857\")\n",
    "#     gdf_proj[\"x\"] = gdf_proj.geometry.x\n",
    "#     gdf_proj[\"y\"] = gdf_proj.geometry.y\n",
    "\n",
    "#     # Set up KDE inputs\n",
    "#     xy = np.vstack([gdf_proj[\"x\"], gdf_proj[\"y\"]])\n",
    "#     weights = gdf_proj[value_column]\n",
    "\n",
    "#     kde = gaussian_kde(xy, weights=weights)\n",
    "#     kde.set_bandwidth(kde.factor * bandwidth_scale)\n",
    "\n",
    "#     # Create evaluation grid\n",
    "#     x_min, y_min, x_max, y_max = gdf_proj.total_bounds\n",
    "#     xx, yy = np.mgrid[x_min:x_max:grid_size*1j, y_min:y_max:grid_size*1j]\n",
    "#     grid_coords = np.vstack([xx.ravel(), yy.ravel()])\n",
    "#     zz = kde(grid_coords).reshape(xx.shape)\n",
    "\n",
    "#     # Normalize\n",
    "#     zz_scaled = zz / zz.max()\n",
    "\n",
    "#     # Convert back to lat/lon\n",
    "#     transformer = pyproj.Transformer.from_crs(\"EPSG:3857\", \"EPSG:4326\", always_xy=True)\n",
    "#     lon_grid, lat_grid = transformer.transform(xx, yy)\n",
    "\n",
    "#     # Create [lat, lon, value] output\n",
    "#     heatmap_data = [\n",
    "#         [lat_grid[i, j], lon_grid[i, j], zz_scaled[i, j]]\n",
    "#         for i in range(xx.shape[0])\n",
    "#         for j in range(xx.shape[1])\n",
    "#         if zz_scaled[i, j] > 0\n",
    "#     ]\n",
    "\n",
    "#     return heatmap_data"
   ]
  },
  {
   "cell_type": "markdown",
   "id": "25e97868",
   "metadata": {},
   "source": [
    "#### Base Map"
   ]
  },
  {
   "cell_type": "code",
   "execution_count": 27,
   "id": "11213783",
   "metadata": {},
   "outputs": [],
   "source": [
    "# m_desirable_undesirable = folium.Map(location=[32.5, -83.5], zoom_start=7, tiles=\"CartoDB positron\")"
   ]
  },
  {
   "cell_type": "markdown",
   "id": "98c37b73",
   "metadata": {},
   "source": [
    "#### Add KDE Heatmap Layers"
   ]
  },
  {
   "cell_type": "code",
   "execution_count": 28,
   "id": "1bf1227a",
   "metadata": {},
   "outputs": [],
   "source": [
    "# def add_kde_heatmap_layer(folium_map, heatmap_data, layer_name, radius=15, blur=25):\n",
    "#     \"\"\"\n",
    "#     Adds a KDE-based HeatMap layer to a Folium map.\n",
    "\n",
    "#     Args:\n",
    "#         folium_map: The folium.Map object to add to\n",
    "#         heatmap_data: List of [lat, lon, value] from compute_kde_heatmap_data\n",
    "#         layer_name: Name of the heatmap layer\n",
    "#         radius: HeatMap radius in pixels\n",
    "#         blur: HeatMap blur in pixels\n",
    "#     \"\"\"\n",
    "#     HeatMap(\n",
    "#         heatmap_data,\n",
    "#         name=layer_name,\n",
    "#         radius=radius,\n",
    "#         blur=blur,\n",
    "#         min_opacity=0.3,\n",
    "#     ).add_to(folium_map)"
   ]
  },
  {
   "cell_type": "code",
   "execution_count": 29,
   "id": "12e017fd",
   "metadata": {},
   "outputs": [],
   "source": [
    "# Run for multiple metrics\n",
    "# datasets = {\n",
    "#     \"Desirable/Undesirable Activities\": {\n",
    "#         \"gdf\": gdf_desirable_filtered,\n",
    "#         \"metrics\": {\n",
    "#             \"score\": \"Desirable/Undesirable Activities Score\"\n",
    "#         }\n",
    "#     },\n",
    "# }\n",
    "\n",
    "# for dataset_name, config in datasets.items():\n",
    "#     gdf = config[\"gdf\"]\n",
    "#     for col, layer_name in config[\"metrics\"].items():\n",
    "#         print(f\"Adding {layer_name} from {dataset_name}...\")\n",
    "#         kde_data = compute_kde_heatmap_data(gdf, value_column=col, bandwidth_scale=0.05)\n",
    "#         add_kde_heatmap_layer(m_desirable_undesirable, kde_data, layer_name=layer_name)\n",
    "\n",
    "# folium.LayerControl(collapsed=False).add_to(m_desirable_undesirable)\n",
    "\n",
    "# m_desirable_undesirable.save(\"../../maps/heatmap_desirable_undesriable_score.html\")"
   ]
  }
 ],
 "metadata": {
  "kernelspec": {
   "display_name": "base",
   "language": "python",
   "name": "python3"
  },
  "language_info": {
   "codemirror_mode": {
    "name": "ipython",
    "version": 3
   },
   "file_extension": ".py",
   "mimetype": "text/x-python",
   "name": "python",
   "nbconvert_exporter": "python",
   "pygments_lexer": "ipython3",
   "version": "3.12.9"
  }
 },
 "nbformat": 4,
 "nbformat_minor": 5
}
