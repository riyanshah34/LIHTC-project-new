{
 "cells": [
  {
   "cell_type": "code",
   "execution_count": 1,
   "id": "99154a92",
   "metadata": {},
   "outputs": [],
   "source": [
    "from pathlib import Path\n",
    "import geopandas as gpd\n",
    "from geopandas.tools import sjoin_nearest"
   ]
  },
  {
   "cell_type": "markdown",
   "id": "8fa18c31",
   "metadata": {},
   "source": [
    "# Importing Data"
   ]
  },
  {
   "cell_type": "markdown",
   "id": "01c3e29a",
   "metadata": {},
   "source": [
    "### File Paths"
   ]
  },
  {
   "cell_type": "code",
   "execution_count": 2,
   "id": "0514c9c8",
   "metadata": {},
   "outputs": [],
   "source": [
    "# Main Score Mapping Data Path\n",
    "main_path = Path(\"../../data/maps/total_location_score/LIHTC-Project_data_map_final_scoring_by_category_multiproc.geojson\")\n",
    "\n",
    "# Desirable/Undesirable Activities Paths \n",
    "desirable_undesirable_scores_path = Path(\"../../data/maps/desirable_undesirable_activities/desirable_undesirable_scores.geojson\")\n",
    "desirable_places_path = Path(\"../../data/maps/desirable_undesirable_activities/desirable_activities_google_places_v3.geojson\")\n",
    "undesirable_places_path = Path(\"../../data/maps/desirable_undesirable_activities/undesirable_hsi_tri_cdr_rcra_frs_google_places.geojson\")\n",
    "food_desert_path = Path(\"../../data/maps/desirable_undesirable_activities/food_access_research_atlas.geojson\")\n",
    "\n",
    "# Housing Needs Characteristics Paths \n",
    "housing_need_characteristics_path = Path(\"../../data/maps/housing_need_characteristics/merged_housing_data.geojson\")\n",
    "\n",
    "# Stable Communities Paths\n",
    "stable_path = Path(\"../../data/maps/stable_communities/stable_communities_scores_geo.geojson\")\n",
    "environmental_path = Path(\"../../data/maps/stable_communities/environmental_health_index_2024.geojson\")\n",
    "poverty_path = Path(\"../../data/maps/stable_communities/above_poverty_level_2024.geojson\")\n",
    "job_path = Path(\"../../data/maps/stable_communities/jobs_proximity_index_2024.geojson\")\n",
    "income_path = Path(\"../../data/maps/stable_communities/median_income_2024.geojson\")\n",
    "transit_path = Path(\"../../data/maps/stable_communities/transit_access_index_2024.geojson\")\n",
    "\n",
    "# Census Tracts Shapefile Path \n",
    "ga_tracts_path = \"../../data/raw/shapefiles/tl_2024_13_tract/tl_2024_13_tract.shp\"\n",
    "\n",
    "# Applicants Path\n",
    "applicants_path = Path(\"../../data/maps/application_list_2022_2023_2024_v2.geojson\")"
   ]
  },
  {
   "cell_type": "markdown",
   "id": "0dcfd9a8",
   "metadata": {},
   "source": [
    "### Load Data"
   ]
  },
  {
   "cell_type": "code",
   "execution_count": null,
   "id": "5c33860a",
   "metadata": {},
   "outputs": [],
   "source": [
    "# Main Score Mapping Data\n",
    "gdf_main_scores = gpd.read_file(main_path)\n",
    "\n",
    "# Desirable/Undesirable Activities \n",
    "gdf_desirable_undesirable_scores = gpd.read_file(desirable_undesirable_scores_path)\n",
    "gdf_desirable_places = gpd.read_file(desirable_places_path)\n",
    "gdf_undesirable_places = gpd.read_file(undesirable_places_path)\n",
    "gdf_food_desert = gpd.read_file(food_desert_path).to_crs(\"EPSG:4326\")\n",
    "\n",
    "# Housing Needs Characteristics Paths \n",
    "gdf_housing_need = gpd.read_file(housing_need_characteristics_path).to_crs(\"EPSG:4326\")\n",
    "\n",
    "# Stable Communities\n",
    "gdf_stable_score = gpd.read_file(stable_path).to_crs(\"EPSG:4326\")\n",
    "gdf_environmental = gpd.read_file(environmental_path).to_crs(\"EPSG:4326\")\n",
    "gdf_poverty = gpd.read_file(poverty_path).to_crs(\"EPSG:4326\")\n",
    "gdf_job = gpd.read_file(job_path).to_crs(\"EPSG:4326\")\n",
    "gdf_income = gpd.read_file(income_path).to_crs(\"EPSG:4326\")\n",
    "gdf_transit = gpd.read_file(transit_path).to_crs(\"EPSG:4326\")\n",
    "\n",
    "# Census Tracts \n",
    "ga_tracts = gpd.read_file(ga_tracts_path).to_crs(\"EPSG:4326\")\n",
    "\n",
    "# Applicants \n",
    "gdf_applicants = gpd.read_file(applicants_path).to_crs(\"EPSG:4326\")"
   ]
  },
  {
   "cell_type": "markdown",
   "id": "00a6bc73",
   "metadata": {},
   "source": [
    "# Preparing Data"
   ]
  },
  {
   "cell_type": "markdown",
   "id": "3db28376",
   "metadata": {},
   "source": [
    "### Add GEOID (census tract ID) to main files and filtering to just tracts in metro Atlanta"
   ]
  },
  {
   "cell_type": "code",
   "execution_count": null,
   "id": "e88363f2",
   "metadata": {},
   "outputs": [],
   "source": [
    "def attach_geoid(points_gdf, tracts=ga_tracts):\n",
    "    points_gdf = points_gdf.to_crs(\"EPSG:4326\")\n",
    "    joined = gpd.sjoin(\n",
    "        points_gdf, tracts[[\"GEOID\", \"geometry\"]],\n",
    "        how=\"left\", predicate=\"within\"\n",
    "    ).drop(columns=\"index_right\")\n",
    "    return joined\n",
    "\n",
    "gdf_main_geo = attach_geoid(gdf_main_scores)"
   ]
  },
  {
   "cell_type": "code",
   "execution_count": null,
   "id": "f27b0493",
   "metadata": {},
   "outputs": [
    {
     "name": "stderr",
     "output_type": "stream",
     "text": [
      "/var/folders/w2/jx7kgvv14cx4km6tl2rymsmw0000gn/T/ipykernel_17033/3086218884.py:14: DeprecationWarning: The 'unary_union' attribute is deprecated, use the 'union_all()' method instead.\n",
      "  metro_union = metro_tracts.unary_union\n"
     ]
    }
   ],
   "source": [
    "# Define Metro ATL counties\n",
    "metro_atlanta_counties = {\n",
    "    \"Cherokee\": \"057\", \"Clayton\": \"063\", \"Cobb\": \"067\", \"DeKalb\": \"089\", \"Douglas\": \"097\",\n",
    "    \"Fayette\": \"113\", \"Forsyth\": \"117\", \"Fulton\": \"121\", \"Gwinnett\": \"135\", \"Rockdale\": \"247\"\n",
    "}\n",
    "\n",
    "# Filter tracts to Metro ATL\n",
    "metro_tracts = ga_tracts[ga_tracts[\"COUNTYFP\"].isin(metro_atlanta_counties.values())]\n",
    "\n",
    "# Dissolve into one geometry per county\n",
    "metro_county_polygons = metro_tracts.dissolve(by=\"COUNTYFP\").reset_index()\n",
    "\n",
    "# dissolve to a single union if you just want inclusion in \"any metro ATL county\"\n",
    "metro_union = metro_tracts.unary_union\n",
    "\n",
    "# Ensure gdf_main is a GeoDataFrame and in same CRS\n",
    "gdf_main_geo = gdf_main_geo.set_geometry(\"geometry\").set_crs(\"EPSG:4326\")\n",
    "\n",
    "# Filter to points inside the Metro ATL union geometry\n",
    "gdf_main_filtered = gdf_main_geo[gdf_main_geo.within(metro_union)]"
   ]
  },
  {
   "cell_type": "code",
   "execution_count": null,
   "id": "ff88936e",
   "metadata": {},
   "outputs": [],
   "source": [
    "# Stable Communities Indicators \n",
    "gdf_environmental_filtered = gdf_environmental[gdf_environmental.within(metro_union)]\n",
    "gdf_poverty_filtered = gdf_poverty[gdf_poverty.within(metro_union)]\n",
    "gdf_job_filtered = gdf_job[gdf_job.within(metro_union)]\n",
    "gdf_income_filtered = gdf_income[gdf_income.within(metro_union)]\n",
    "gdf_transit_filtered = gdf_transit[gdf_transit.within(metro_union)]\n",
    "\n",
    "# Housing Needs Characteristics Indicators\n",
    "gdf_housing_filtered = gdf_housing_need[gdf_housing_need.within(metro_union)]\n",
    "\n",
    "# Desirable/Undesirable Activities Indicators\n",
    "gdf_desirable_places_filtered = gdf_desirable_places[gdf_desirable_places.within(metro_union)]\n",
    "gdf_undesirable_places_filtered = gdf_undesirable_places[gdf_undesirable_places.within(metro_union)]\n",
    "gdf_food_desert_filtered = gdf_food_desert[gdf_food_desert.within(metro_union)]\n",
    "\n",
    "# # Application Data\n",
    "gdf_applicants_filtered = gdf_applicants[gdf_applicants.within(metro_union)]"
   ]
  },
  {
   "cell_type": "code",
   "execution_count": 9,
   "id": "c91e6783",
   "metadata": {},
   "outputs": [],
   "source": [
    "# Create separate GeoDataFrames for each scoring category\n",
    "gdf_transport_filtered = gdf_main_filtered[gdf_main_filtered[\"scoring_category\"] == \"Community Transportation Options\"].copy()\n",
    "gdf_desirable_filtered = gdf_main_filtered[gdf_main_filtered[\"scoring_category\"] == \"Desirable/Undesirable Activities\"].copy()\n",
    "gdf_stable_filtered = gdf_main_filtered[gdf_main_filtered[\"scoring_category\"] == \"Stable Communities\"].copy()\n",
    "gdf_need_filtered = gdf_main_filtered[gdf_main_filtered[\"scoring_category\"] == \"Housing Need Characteristics\"].copy()\n",
    "gdf_education_filtered = gdf_main_filtered[gdf_main_filtered[\"scoring_category\"] == \"Quality Education\"].copy()\n",
    "gdf_total_filtered = gdf_main_filtered[gdf_main_filtered[\"scoring_category\"] == \"Total Score\"].copy()"
   ]
  },
  {
   "cell_type": "markdown",
   "id": "9ac3887c",
   "metadata": {},
   "source": [
    "### Rolling up lat/lon data to census tract level for relevant scoring categories "
   ]
  },
  {
   "cell_type": "code",
   "execution_count": 10,
   "id": "15f25908",
   "metadata": {},
   "outputs": [],
   "source": [
    "# Rolling up lat/lon data to census tract level for relevant scoring categories \n",
    "\n",
    "gdf_stable_filtered_mean = (\n",
    "    gdf_stable_filtered[[\"GEOID\", \"score\"]]\n",
    "    .groupby(\"GEOID\", as_index=False)[\"score\"]\n",
    "    .mean()\n",
    ")\n",
    "\n",
    "gdf_education_filtered_mean = (\n",
    "    gdf_education_filtered[[\"GEOID\", \"score\"]]\n",
    "    .groupby(\"GEOID\", as_index=False)[\"score\"]\n",
    "    .mean()\n",
    ")\n"
   ]
  },
  {
   "cell_type": "code",
   "execution_count": 11,
   "id": "11d30281",
   "metadata": {},
   "outputs": [],
   "source": [
    "gdf_stable_filtered_mean = (\n",
    "    gdf_stable_filtered_mean      \n",
    "      .merge(ga_tracts[[\"GEOID\", \"geometry\"]], on=\"GEOID\", how=\"left\")  \n",
    ")\n",
    "\n",
    "gdf_education_filtered_mean = (\n",
    "    gdf_education_filtered_mean      \n",
    "      .merge(ga_tracts[[\"GEOID\", \"geometry\"]], on=\"GEOID\", how=\"left\")  \n",
    ")"
   ]
  },
  {
   "cell_type": "code",
   "execution_count": 12,
   "id": "ba7739dc",
   "metadata": {},
   "outputs": [],
   "source": [
    "gdf_stable_final = gpd.GeoDataFrame(\n",
    "    gdf_stable_filtered_mean,\n",
    "    geometry=\"geometry\",\n",
    "    crs=\"EPSG:4326\"\n",
    ")\n",
    "\n",
    "gdf_education_final = gpd.GeoDataFrame(\n",
    "    gdf_education_filtered_mean,\n",
    "    geometry=\"geometry\",\n",
    "    crs=\"EPSG:4326\"\n",
    ")"
   ]
  },
  {
   "cell_type": "markdown",
   "id": "4b95d3c4",
   "metadata": {},
   "source": [
    "### Adding Missing Tracts in Stable Communities Data"
   ]
  },
  {
   "cell_type": "code",
   "execution_count": 13,
   "id": "70fb55be",
   "metadata": {},
   "outputs": [
    {
     "name": "stderr",
     "output_type": "stream",
     "text": [
      "/opt/homebrew/anaconda3/lib/python3.12/site-packages/geopandas/array.py:403: UserWarning: Geometry is in a geographic CRS. Results from 'sjoin_nearest' are likely incorrect. Use 'GeoSeries.to_crs()' to re-project geometries to a projected CRS before this operation.\n",
      "\n",
      "  warnings.warn(\n"
     ]
    }
   ],
   "source": [
    "gdf_stable_merged = metro_tracts.merge(\n",
    "    gdf_stable_final[['score', \"GEOID\"]],\n",
    "    how=\"left\",\n",
    "    on=\"GEOID\"\n",
    ")\n",
    "\n",
    "score_column = 'score'\n",
    "missing_gdf = gdf_stable_merged[gdf_stable_merged[score_column].isna()]\n",
    "scored_gdf = gdf_stable_merged[gdf_stable_merged[score_column].notna()]\n",
    "\n",
    "# Spatial join to get nearest scores\n",
    "nearest_matches = sjoin_nearest(\n",
    "    missing_gdf,\n",
    "    scored_gdf[['score', 'geometry']],\n",
    "    how='left',\n",
    "    distance_col='dist_to_nearest'\n",
    ")\n",
    "\n",
    "# Assign nearest scores to missing tracts\n",
    "gdf_stable_merged.loc[missing_gdf.index, 'score'] = nearest_matches['score_right'].values[:len(missing_gdf)]\n",
    "\n",
    "# Assign the source of the score\n",
    "\n",
    "gdf_stable_merged['score_source'] = 'Original'\n",
    "gdf_stable_merged.loc[missing_gdf.index, 'score_source'] = 'Imputed'"
   ]
  },
  {
   "cell_type": "markdown",
   "id": "fb81d39f",
   "metadata": {},
   "source": [
    "# Saving Data"
   ]
  },
  {
   "cell_type": "code",
   "execution_count": null,
   "id": "90165e89",
   "metadata": {},
   "outputs": [],
   "source": [
    "# Total Score\n",
    "## Score\n",
    "gdf_total_filtered.to_file(\"../../data/maps/total_location_score/total_score_metro_atl.geojson\", driver=\"GeoJSON\")\n",
    "\n",
    "# Community Transportation Options\n",
    "## Score\n",
    "gdf_transport_filtered.to_file(\"../../data/maps/community_transportation_options/transportation_options_score_metro_atl.geojson\", driver=\"GeoJSON\")\n",
    "\n",
    "# Desirable/Undesirable Activities \n",
    "## Score\n",
    "gdf_desirable_filtered.to_file(\"../../data/maps/desirable_undesirable_activities/desirable_undesirable_score_metro_atl.geojson\", driver=\"GeoJSON\")\n",
    "## Desirable incidators\n",
    "gdf_desirable_places_filtered.to_file(\"../../data/maps/desirable_undesirable_activities/desirable_places_metro_atl.geojson\", driver=\"GeoJSON\")\n",
    "## Undesirable indicators\n",
    "gdf_undesirable_places_filtered.to_file(\"../../data/maps/desirable_undesirable_activities/undesirable_places_metro_atl.geojson\", driver=\"GeoJSON\")\n",
    "## Food desert indicator\n",
    "gdf_food_desert_filtered.to_file(\"../../data/maps/desirable_undesirable_activities/food_deserts_metro_atl.geojson\", driver=\"GeoJSON\")\n",
    "\n",
    "\n",
    "# Housing Need Characteristics \n",
    "## Score\n",
    "gdf_need_filtered.to_file(\"../../data/maps/housing_need_characteristics/housing_need_score_metro_atl.geojson\", driver=\"GeoJSON\")\n",
    "## Housing Need Characteristics indicators\n",
    "gdf_housing_filtered.to_file(\"../../data/maps/housing_need_characteristics/housing_need_indicators_metro_atl.geojson\", driver=\"GeoJSON\")\n",
    "\n",
    "# Quality Education \n",
    "## Score\n",
    "gdf_education_final.to_file(\"../../data/maps/quality_education_areas/education_score_metro_atl.geojson\", driver=\"GeoJSON\")\n",
    "\n",
    "# Stable Communities\n",
    "## Score\n",
    "gdf_stable_merged.to_file(\"../../data/maps/stable_communities/stable_communities_score_metro_atl.geojson\", driver=\"GeoJSON\")\n",
    "## Stable Communities indicators\n",
    "gdf_environmental_filtered.to_file(\"../../data/maps/stable_communities/environmental_health_index_metro_atl.geojson\", driver=\"GeoJSON\")\n",
    "gdf_job_filtered.to_file(\"../../data/maps/stable_communities/jobs_proximity_index_metro_atl.geojson\", driver=\"GeoJSON\")\n",
    "gdf_poverty_filtered.to_file(\"../../data/maps/stable_communities/above_poverty_level_metro_atl.geojson\", driver=\"GeoJSON\")\n",
    "gdf_income_filtered.to_file(\"../../data/maps/stable_communities/median_income_metro_atl.geojson\", driver=\"GeoJSON\")\n",
    "gdf_transit_filtered.to_file(\"../../data/maps/stable_communities/transit_access_index_metro_atl.geojson\", driver=\"GeoJSON\")\n",
    "\n",
    "# Applicants\n",
    "gdf_applicants_filtered.to_file(\"../../data/maps/application_list_2022_2023_2024_metro_atl.geojson\", driver=\"GeoJSON\")"
   ]
  }
 ],
 "metadata": {
  "kernelspec": {
   "display_name": "base",
   "language": "python",
   "name": "python3"
  },
  "language_info": {
   "codemirror_mode": {
    "name": "ipython",
    "version": 3
   },
   "file_extension": ".py",
   "mimetype": "text/x-python",
   "name": "python",
   "nbconvert_exporter": "python",
   "pygments_lexer": "ipython3",
   "version": "3.12.9"
  }
 },
 "nbformat": 4,
 "nbformat_minor": 5
}
