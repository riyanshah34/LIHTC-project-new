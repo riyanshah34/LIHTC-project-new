{
 "cells": [
  {
   "cell_type": "code",
   "execution_count": 1,
   "id": "8ed924d0",
   "metadata": {},
   "outputs": [],
   "source": [
    "import pandas as pd\n",
    "import geopandas as gpd\n",
    "import pandas as pd, geopandas as gpd\n",
    "from shapely.geometry import Point "
   ]
  },
  {
   "cell_type": "code",
   "execution_count": 2,
   "id": "fd668583",
   "metadata": {},
   "outputs": [],
   "source": [
    "csv_path     = \"../../data/processed/scoring_indicators/housing_needs_characteristics/merged_housing_data_v2.csv\"     \n",
    "shp_path     = \"../../data/raw/shapefiles/tl_2024_13_tract/tl_2024_13_tract.shp\"\n",
    "out_geojson  = \"../../data/maps/housing_need_characteristics/merged_housing_data.geojson\""
   ]
  },
  {
   "cell_type": "code",
   "execution_count": 3,
   "id": "fbd90101",
   "metadata": {},
   "outputs": [],
   "source": [
    "df = pd.read_csv(csv_path).rename(columns={\"2020 Census Tract\": \"GEOID\"})\n",
    "\n",
    "# Convert tract column to an 11‑digit string (keeps leading zeros)\n",
    "df[\"GEOID\"] = (\n",
    "    df[\"GEOID\"]\n",
    "      .astype(str)           \n",
    "      .str.replace(r\"\\.0$\", \"\", regex=True)  \n",
    "      .str.zfill(11)        \n",
    ")\n",
    "\n",
    "# Read tract polygons\n",
    "gdf = gpd.read_file(shp_path)[[\"GEOID\", \"geometry\"]]\n",
    "\n",
    "# Ensure polygon key is also a string\n",
    "gdf[\"GEOID\"] = gdf[\"GEOID\"].astype(str).str.zfill(11)\n",
    "\n",
    "# Merge\n",
    "merged = gdf.merge(df, on=\"GEOID\", how=\"inner\")"
   ]
  },
  {
   "cell_type": "code",
   "execution_count": 4,
   "id": "a9af43ec",
   "metadata": {},
   "outputs": [],
   "source": [
    "merged.to_file(out_geojson, driver=\"GeoJSON\")"
   ]
  }
 ],
 "metadata": {
  "kernelspec": {
   "display_name": "base",
   "language": "python",
   "name": "python3"
  },
  "language_info": {
   "codemirror_mode": {
    "name": "ipython",
    "version": 3
   },
   "file_extension": ".py",
   "mimetype": "text/x-python",
   "name": "python",
   "nbconvert_exporter": "python",
   "pygments_lexer": "ipython3",
   "version": "3.12.9"
  }
 },
 "nbformat": 4,
 "nbformat_minor": 5
}
